{
 "cells": [
  {
   "cell_type": "markdown",
   "id": "a06ea660",
   "metadata": {},
   "source": [
    "<h1>Data Science Tools and Ecosystem</h1>"
   ]
  },
  {
   "cell_type": "markdown",
   "id": "41ae017a",
   "metadata": {},
   "source": [
    "In this notebook, Data Science Tools and Ecosystem are summarized."
   ]
  },
  {
   "cell_type": "markdown",
   "id": "43d3b283",
   "metadata": {},
   "source": [
    "<b>Objectives:</b>\n",
    "<ul>\n",
    "    <li>Python.</li>\n",
    "    <li>R.</li>\n",
    "    <li>SQL.</li>\n",
    "</ul>\n"
   ]
  },
  {
   "cell_type": "markdown",
   "id": "cd9b9b58",
   "metadata": {},
   "source": [
    "Some of the popular languages that Data Scientists use are:\n",
    "<ol>\n",
    "\n",
    "<li>Python.</li>\n",
    "<li>R.</li>\n",
    "<li>SQL.</li>\n",
    "<li>Java.</li>\n",
    "<li>Julia.</li>\n",
    "<li>Scala.</li>\n",
    "<li>C/C++.</li>\n",
    "<li>JavaScript.</li></ol>"
   ]
  },
  {
   "cell_type": "markdown",
   "id": "9b3a5166",
   "metadata": {},
   "source": [
    "Some of the commonly used libraries used by Data Scientists include:\n",
    "<ol>\n",
    "<li>TensorFlow.</li>\n",
    "<li>NumPy.</li>\n",
    "<li>SciPy.</li>\n",
    "<li>Pandas.</li>\n",
    "<li>Matplotlib.</li>\n",
    "<li>Keras.</li>\n",
    "<li>SciKit-Learn.</li>\n",
    "<li>PyTorch.</li>\n",
    "<li>Scrapy.</li>\n",
    "<li>BeautifulSoup.</li>\n",
    "<li>LightGBM.</li>\n",
    "<li>ELI5.</li>\n",
    "<li>Theano.</li>\n",
    "<li>NuPIC.</li>\n",
    "<li>Ramp.</li>\n",
    "<li>Pipenv.</li>\n",
    "<li>Bob.</li>\n",
    "<li>PyBrain.</li>\n",
    "<li>Caffe2.</li>\n",
    "<li>Chainer.</li>\n",
    "    </ol>"
   ]
  },
  {
   "cell_type": "markdown",
   "id": "e44df216",
   "metadata": {},
   "source": [
    "<table>\n",
    "    <tr>\n",
    "        <th>Data Science Tools</th>\n",
    "    </tr>\n",
    "    <tr>\n",
    "        <td>Jupyter Notebook</td>\n",
    "    </tr>\n",
    "    <tr>\n",
    "        <td>RStudio</td>\n",
    "    </tr>\n",
    "    <tr>\n",
    "        <td>Apache Zeppelin</td>\n",
    "    </tr>\n",
    "</table>\n"
   ]
  },
  {
   "cell_type": "markdown",
   "id": "4e0cfdd4",
   "metadata": {},
   "source": [
    "<h3>Below are a few examples of evaluating arithmetic expressions in Python</h3>"
   ]
  },
  {
   "cell_type": "code",
   "execution_count": 3,
   "id": "f9776e06",
   "metadata": {},
   "outputs": [
    {
     "data": {
      "text/plain": [
       "17"
      ]
     },
     "execution_count": 3,
     "metadata": {},
     "output_type": "execute_result"
    }
   ],
   "source": [
    "# This is a simple arithmetic expression to multiply then add integers\n",
    "(3 * 4) + 5\n"
   ]
  },
  {
   "cell_type": "code",
   "execution_count": 4,
   "id": "2f2754e3",
   "metadata": {},
   "outputs": [
    {
     "data": {
      "text/plain": [
       "3.3333333333333335"
      ]
     },
     "execution_count": 4,
     "metadata": {},
     "output_type": "execute_result"
    }
   ],
   "source": [
    "# This will convert 200 minutes to hours by dividing by 60\n",
    "200 / 60\n"
   ]
  },
  {
   "cell_type": "markdown",
   "id": "6f81f25a",
   "metadata": {},
   "source": [
    "## Author:\n",
    "Amit Kumar Bharti\n"
   ]
  }
 ],
 "metadata": {
  "kernelspec": {
   "display_name": "Python 3 (ipykernel)",
   "language": "python",
   "name": "python3"
  },
  "language_info": {
   "codemirror_mode": {
    "name": "ipython",
    "version": 3
   },
   "file_extension": ".py",
   "mimetype": "text/x-python",
   "name": "python",
   "nbconvert_exporter": "python",
   "pygments_lexer": "ipython3",
   "version": "3.11.5"
  }
 },
 "nbformat": 4,
 "nbformat_minor": 5
}
